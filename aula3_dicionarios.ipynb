{
 "cells": [
  {
   "cell_type": "markdown",
   "metadata": {},
   "source": [
    "**DICIONÁRIOS**\n",
    "\n",
    "Um dicionário é uma coleção, assim como as listas e as tuplas. Porém, enquanto as tuplas eram indexadas por um índice, os dicionários são indexados por chaves. Todo elemento em um dicionário possui uma chave e um valor. Chaves tipicamente são strings, valores podem ser qualquer tipo de dado."
   ]
  },
  {
   "cell_type": "code",
   "execution_count": 1,
   "metadata": {},
   "outputs": [],
   "source": [
    "# O dicionário é definido pelos símbolos { e }\n",
    "\n",
    "dicionario = {}"
   ]
  },
  {
   "cell_type": "code",
   "execution_count": 2,
   "metadata": {},
   "outputs": [
    {
     "name": "stdout",
     "output_type": "stream",
     "text": [
      "{'cat': 'gato', 'dog': 'cachorro', 'mouse': 'rato'}\n",
      "<class 'dict'>\n"
     ]
    }
   ],
   "source": [
    "# O dicionário não possui um \"append\".\n",
    "# Adicionamos valores diretamente:\n",
    "\n",
    "dicionario['cat'] = 'gato'\n",
    "dicionario['dog'] = 'cachorro'\n",
    "dicionario['mouse'] = 'rato'\n",
    "\n",
    "print(dicionario)\n",
    "print(type(dicionario))"
   ]
  },
  {
   "cell_type": "code",
   "execution_count": 3,
   "metadata": {},
   "outputs": [
    {
     "name": "stdout",
     "output_type": "stream",
     "text": [
      "{'cat': 'gato', 'dog': 'cão', 'mouse': 'rato'}\n"
     ]
    }
   ],
   "source": [
    "# Dicionários, assim como as listas, são mutáveis:\n",
    "dicionario['dog'] = 'cão'\n",
    "print(dicionario)"
   ]
  },
  {
   "cell_type": "code",
   "execution_count": 4,
   "metadata": {},
   "outputs": [
    {
     "name": "stdout",
     "output_type": "stream",
     "text": [
      "{'Curso': 'Python Pro', 'Linguagem': 'Python', 'Módulo': 2}\n"
     ]
    }
   ],
   "source": [
    "# Podemos criar o dicionário diretamente também:\n",
    "dicionario2 = {'Curso': 'Python Pro',\n",
    "               'Linguagem':'Python',\n",
    "               'Módulo':2\n",
    "              }\n",
    "print(dicionario2)"
   ]
  },
  {
   "cell_type": "code",
   "execution_count": 5,
   "metadata": {},
   "outputs": [
    {
     "name": "stdout",
     "output_type": "stream",
     "text": [
      "{'Curso': 'Python Pro', 'Linguagem': 'Python', 'Módulo': 2, 'versão': '1'}\n",
      "{'Curso': 'Python Pro', 'Linguagem': 'Python', 'Módulo': 2, 'versão': '1'}\n"
     ]
    }
   ],
   "source": [
    "# Uma alteração modifica os dois dicionários\n",
    "dicionario3 = dicionario2\n",
    "dicionario3['versão'] = '1'\n",
    "print(dicionario2)\n",
    "print(dicionario3)"
   ]
  },
  {
   "cell_type": "code",
   "execution_count": 6,
   "metadata": {},
   "outputs": [
    {
     "name": "stdout",
     "output_type": "stream",
     "text": [
      "{'Curso': 'Python Pro', 'Linguagem': 'Python', 'Módulo': 2, 'versão': '1'}\n",
      "{'Curso': 'Python Pro', 'Linguagem': 'Python', 'Módulo': 2, 'versão': '2'}\n"
     ]
    }
   ],
   "source": [
    "# Ao criar uma copia do dicionario, uma modificação só altera a cópia\n",
    "dicionario4 = dicionario3.copy()\n",
    "dicionario4['versão'] = '2'\n",
    "print(dicionario3)\n",
    "print(dicionario4)"
   ]
  },
  {
   "cell_type": "code",
   "execution_count": 7,
   "metadata": {},
   "outputs": [
    {
     "name": "stdout",
     "output_type": "stream",
     "text": [
      "{'Curso': 'Python Pro', 'Linguagem': 'Python', 'Módulo': 2, 'versão': '2', 'Classificação': 'Bom', 'Alunos': 5000}\n"
     ]
    }
   ],
   "source": [
    "# Atualizando o dicionário\n",
    "novos_dados = {'Classificação': 'Bom',\n",
    "              'Alunos': 5000\n",
    "              }\n",
    "dicionario4.update(novos_dados)\n",
    "print(dicionario4)"
   ]
  },
  {
   "cell_type": "code",
   "execution_count": 8,
   "metadata": {},
   "outputs": [
    {
     "name": "stdout",
     "output_type": "stream",
     "text": [
      "None\n"
     ]
    }
   ],
   "source": [
    "# Verificar se a variável existe ou não no dicionário\n",
    "print(dicionario4.get('Professor'))"
   ]
  },
  {
   "cell_type": "code",
   "execution_count": 9,
   "metadata": {},
   "outputs": [
    {
     "name": "stdout",
     "output_type": "stream",
     "text": [
      "cat existe!\n"
     ]
    }
   ],
   "source": [
    "# Podemos utilizar o operador \"in\" para verificar se uma chave existe:\n",
    "if 'cat' in dicionario:\n",
    "    print('cat existe!') # Sim\n",
    "if 'bird' in dicionario:\n",
    "    print('bird existe!') # Não\n",
    "if 'gato' in dicionario:\n",
    "    print('gato existe!') # Não"
   ]
  },
  {
   "cell_type": "code",
   "execution_count": 10,
   "metadata": {},
   "outputs": [
    {
     "name": "stdout",
     "output_type": "stream",
     "text": [
      "dict_keys(['cat', 'dog', 'mouse'])\n"
     ]
    }
   ],
   "source": [
    "'''\n",
    "Também podemos utilizar as funções .keys() e .values() para obter listas\n",
    "com apenas as chaves ou apenas os valores do dicionário.\n",
    "'''\n",
    "chaves = dicionario.keys()\n",
    "print(chaves)"
   ]
  },
  {
   "cell_type": "code",
   "execution_count": 11,
   "metadata": {},
   "outputs": [
    {
     "name": "stdout",
     "output_type": "stream",
     "text": [
      "dict_values(['gato', 'cão', 'rato'])\n"
     ]
    }
   ],
   "source": [
    "valores = dicionario.values()\n",
    "print(valores)"
   ]
  },
  {
   "cell_type": "code",
   "execution_count": 12,
   "metadata": {},
   "outputs": [
    {
     "name": "stdout",
     "output_type": "stream",
     "text": [
      "dict_items([('cat', 'gato'), ('dog', 'cão'), ('mouse', 'rato')])\n"
     ]
    }
   ],
   "source": [
    "# Já a função .items(), retorna uma lista de tuplas (chave, valor) de um dicionário\n",
    "\n",
    "itens = dicionario.items()\n",
    "print(itens)"
   ]
  }
 ],
 "metadata": {
  "kernelspec": {
   "display_name": "Python 3",
   "language": "python",
   "name": "python3"
  },
  "language_info": {
   "codemirror_mode": {
    "name": "ipython",
    "version": 3
   },
   "file_extension": ".py",
   "mimetype": "text/x-python",
   "name": "python",
   "nbconvert_exporter": "python",
   "pygments_lexer": "ipython3",
   "version": "3.7.6"
  }
 },
 "nbformat": 4,
 "nbformat_minor": 4
}
